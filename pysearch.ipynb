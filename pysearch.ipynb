{
 "cells": [
  {
   "cell_type": "markdown",
   "id": "25682060-99f8-45ea-9d5e-01693dc89d4b",
   "metadata": {},
   "source": [
    "# PySearch - a simple script to query a Solr installation with a set of TREC-COVID topics"
   ]
  },
  {
   "cell_type": "code",
   "execution_count": 65,
   "id": "f91f8565-6026-4edc-aea9-6769687b0858",
   "metadata": {},
   "outputs": [],
   "source": [
    "#imports\n",
    "from requests import get\n",
    "import os.path\n",
    "import xml.etree.ElementTree as ET\n",
    "import json\n"
   ]
  },
  {
   "cell_type": "code",
   "execution_count": 66,
   "id": "42abf885-8b9a-4d8b-a866-c51c14310f4a",
   "metadata": {},
   "outputs": [],
   "source": [
    "BASE_URL = \"http://localhost:8983/solr/trec/select?q=\"\n",
    "DOCID = \"id\"\n",
    "FIELDS = \"&fl=\" + ID + \",score\"\n",
    "ROWS = \"&rows=1000\"\n",
    "RUN_FILE = 'baseline-title-abstract-query.run'\n",
    "TAG = 'solr-bm25'\n",
    "TOPICFILE = 'topics-rnd5.xml'"
   ]
  },
  {
   "cell_type": "code",
   "execution_count": 67,
   "id": "537f0d63-1d71-4722-8d98-6e97138db305",
   "metadata": {},
   "outputs": [
    {
     "name": "stdout",
     "output_type": "stream",
     "text": [
      "200\n"
     ]
    }
   ],
   "source": [
    "# check if local Solr installtion is online\n",
    "print(requests.get(BASE_URL).status_code)"
   ]
  },
  {
   "cell_type": "code",
   "execution_count": 68,
   "id": "b875bb0b-93fa-4e72-8595-c1bfb77e5304",
   "metadata": {},
   "outputs": [],
   "source": [
    "# download the TREC-COVID topic file (round 5) from the NIST archive and safe a local copy\n",
    "\n",
    "if os.path.isfile(TOPICFILE) != True:\n",
    "    topicsfile = requests.get('https://ir.nist.gov/covidSubmit/data/topics-rnd5.xml', allow_redirects=True)\n",
    "    open('topics-rnd5.xml', 'wb').write(topicsfile.content)"
   ]
  },
  {
   "cell_type": "code",
   "execution_count": 69,
   "id": "97672ed9-07fa-4448-8a66-4ddaa397acff",
   "metadata": {},
   "outputs": [],
   "source": [
    "# query the title_txt field with the query taken from the topic file for all 50 topics\n",
    "\n",
    "with open(TOPICFILE, 'r') as f:\n",
    "    topicsxml = f.read() \n",
    "\n",
    "with open(RUN_FILE, 'w') as f_out:\n",
    "    root = ET.parse(TOPICFILE).getroot()    \n",
    "    for topic in root.findall('topic'):    \n",
    "\n",
    "        query = topic.find('query').text\n",
    "        topicId = topic.attrib['number']        \n",
    "\n",
    "        # We assume that there are two fields index: title_txt and abstract_txt - Your milage may vary... \n",
    "        q = \"title_txt:(\" + query.replace(' ', '%20') + \") \" + \"abstract_txt:(\" + query.replace(' ', '%20') + \")\"\n",
    "        \n",
    "        url = ''.join([BASE_URL, q, FIELDS, ROWS])\n",
    "        json = get(url).json()        \n",
    "        \n",
    "        rank = 1                \n",
    "        \n",
    "        for doc in json.get('response').get('docs'):\n",
    "            docid = doc.get(DOCID)            \n",
    "            score = doc.get('score')\n",
    "            out_str = '\\t'.join([topicId, 'Q0', str(docid), str(rank), str(score), TAG])\n",
    "            f_out.write(out_str + '\\n')\n",
    "            rank += 1"
   ]
  }
 ],
 "metadata": {
  "kernelspec": {
   "display_name": "Python 3 (ipykernel)",
   "language": "python",
   "name": "python3"
  },
  "language_info": {
   "codemirror_mode": {
    "name": "ipython",
    "version": 3
   },
   "file_extension": ".py",
   "mimetype": "text/x-python",
   "name": "python",
   "nbconvert_exporter": "python",
   "pygments_lexer": "ipython3",
   "version": "3.13.0"
  }
 },
 "nbformat": 4,
 "nbformat_minor": 5
}
